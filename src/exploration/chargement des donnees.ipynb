{
 "cells": [
  {
   "cell_type": "markdown",
   "metadata": {},
   "source": [
    "# Objectif de charger les données "
   ]
  },
  {
   "cell_type": "code",
   "execution_count": 1,
   "metadata": {
    "collapsed": true
   },
   "outputs": [],
   "source": [
    "import pandas as pd\n",
    "import os\n",
    "import json\n",
    "import glob\n",
    "import sqlite3, sqlalchemy"
   ]
  },
  {
   "cell_type": "code",
   "execution_count": 2,
   "metadata": {
    "collapsed": true,
    "scrolled": true
   },
   "outputs": [],
   "source": [
    "#lire le fichier json des paramètres \n",
    "with open('../parameters.json') as json_data:\n",
    "    params = json.load(json_data)\n",
    "    \n",
    "DATA_DIR = params['DIRECTORIES']['DATA_DIR']\n",
    "TMP_DIR = params['DIRECTORIES']['TMP_DIR']\n",
    "PRICE_FILE = params['FILES']['PRICE_FILE']\n",
    "STATION_FILE = params['FILES']['STATION_FILE']\n",
    "SERVICE_FILE = params['FILES']['SERVICE_FILE']\n",
    "#ici on en profite pour faire tt de suite le path os join\n",
    "GAS_DB = os.path.join(DATA_DIR, params['DATABASES']['GAS_DB'])"
   ]
  },
  {
   "cell_type": "code",
   "execution_count": 13,
   "metadata": {
    "collapsed": true
   },
   "outputs": [],
   "source": [
    "#ce code si on avait pas utilsier le fichier param json\n",
    "\n",
    "#constante, on met souvent en majusucles. \n",
    "#utiliser nom anglais et simple pour sauvegarder les path qu'on va utiliser\n",
    "#DATA_DIR = 'C:/Users/t15021596/Hands-on-Project---CT/data'\n",
    "#ou utiliser l emode relatif, ici poru au autre dossier tmp\n",
    "#TMP_DIR = '../../tmp'"
   ]
  },
  {
   "cell_type": "code",
   "execution_count": 6,
   "metadata": {
    "collapsed": true
   },
   "outputs": [],
   "source": [
    "gas_files = glob.glob(os.path.join(DATA_DIR, \"Prix*.zip\"))\n",
    "stations_file = 'stations2016.zip'\n",
    "services_file = 'services2016.zip'"
   ]
  },
  {
   "cell_type": "code",
   "execution_count": 15,
   "metadata": {},
   "outputs": [
    {
     "data": {
      "text/plain": [
       "[]"
      ]
     },
     "execution_count": 15,
     "metadata": {},
     "output_type": "execute_result"
    }
   ],
   "source": [
    "gas_files"
   ]
  },
  {
   "cell_type": "raw",
   "metadata": {},
   "source": [
    "#une façon pas très propre d'importer le fichier : \n",
    "#df2014 =pd.read_csv(DATA_DIR +'/' + gas_files[0])\n",
    "\n",
    "#autre méthode qui marchera quelque soit le système d'exploitation. \n",
    "#le dtype : be carful with the postal code (variable 1), better set it as character otherwise the leading 0 will disappear\n",
    "df2014 =pd.read_csv(os.path.join(DATA_DIR,gas_files[0]), sep=';',header=None, dtype={1:str})"
   ]
  },
  {
   "cell_type": "raw",
   "metadata": {},
   "source": [
    "#on peut voir avec ça que séparateur c'est ; et la on revient au dessus et on rajoute l'argument sep\n",
    "df2014.columns"
   ]
  },
  {
   "cell_type": "raw",
   "metadata": {},
   "source": [
    "df2014.head()"
   ]
  },
  {
   "cell_type": "raw",
   "metadata": {},
   "source": [
    "df2014.dtypes"
   ]
  },
  {
   "cell_type": "raw",
   "metadata": {},
   "source": [
    "#renommer les colonnes\n",
    "df2014.columns = ['id_station','code_postal','type_station','latitude',\n",
    "                  'longitude','date_releve','type_carburant',\n",
    "                  'libelle_carburant','prix']"
   ]
  },
  {
   "cell_type": "code",
   "execution_count": 16,
   "metadata": {
    "scrolled": true
   },
   "outputs": [
    {
     "ename": "AssertionError",
     "evalue": "Pas bon nb de colonne",
     "output_type": "error",
     "traceback": [
      "\u001b[1;31m---------------------------------------------------------------------------\u001b[0m",
      "\u001b[1;31mAssertionError\u001b[0m                            Traceback (most recent call last)",
      "\u001b[1;32m<ipython-input-16-726fee663f98>\u001b[0m in \u001b[0;36m<module>\u001b[1;34m()\u001b[0m\n\u001b[0;32m     14\u001b[0m \u001b[1;33m\u001b[0m\u001b[0m\n\u001b[0;32m     15\u001b[0m \u001b[0mdfall\u001b[0m\u001b[1;33m.\u001b[0m\u001b[0mshape\u001b[0m\u001b[1;33m\u001b[0m\u001b[0m\n\u001b[1;32m---> 16\u001b[1;33m \u001b[1;32massert\u001b[0m \u001b[0mdfall\u001b[0m\u001b[1;33m.\u001b[0m\u001b[0mshape\u001b[0m\u001b[1;33m[\u001b[0m\u001b[1;36m1\u001b[0m\u001b[1;33m]\u001b[0m \u001b[1;33m==\u001b[0m \u001b[1;36m9\u001b[0m\u001b[1;33m,\u001b[0m \u001b[1;34m\"Pas bon nb de colonne\"\u001b[0m\u001b[1;33m\u001b[0m\u001b[0m\n\u001b[0m\u001b[0;32m     17\u001b[0m \u001b[1;31m#nb de ligne = 9 ? pour verifier, sinon met messagage d'erreur\u001b[0m\u001b[1;33m\u001b[0m\u001b[1;33m\u001b[0m\u001b[0m\n",
      "\u001b[1;31mAssertionError\u001b[0m: Pas bon nb de colonne"
     ]
    }
   ],
   "source": [
    "#boucle pour concatener les 3 années\n",
    "\n",
    "dfall = pd.DataFrame()\n",
    "\n",
    "for year in gas_files:\n",
    "    df=pd.read_csv(year, sep=';',header=None, dtype={1: str})\n",
    "\n",
    "    df.columns = ['id_station','code_postal','type_station','latitude',\n",
    "                  'longitude','date_releve','type_carburant',\n",
    "                  'libelle_carburant','prix']\n",
    "    dfall = pd.concat([dfall, df], axis=0)\n",
    "\n",
    "#axis = 0 c'est pour concatener dessus dessous    \n",
    "\n",
    "dfall.shape\n",
    "assert dfall.shape[1] == 9, \"Pas bon nb de colonne\"\n",
    "#nb de ligne = 9 ? pour verifier, sinon met messagage d'erreur"
   ]
  },
  {
   "cell_type": "code",
   "execution_count": null,
   "metadata": {
    "collapsed": true
   },
   "outputs": [],
   "source": [
    "dfall.shape"
   ]
  },
  {
   "cell_type": "code",
   "execution_count": null,
   "metadata": {
    "collapsed": true
   },
   "outputs": [],
   "source": [
    "dfstations = pd.read_csv(os.path.join(DATA_DIR,stations_file), sep='|', header=None, encoding='utf-8',dtype={1: str})\n",
    "dfstations.columns = ['id_station','code_postal','type_station','latitude','longitude','adresse','ville']"
   ]
  },
  {
   "cell_type": "code",
   "execution_count": null,
   "metadata": {
    "collapsed": true
   },
   "outputs": [],
   "source": [
    "dfstations.head()"
   ]
  },
  {
   "cell_type": "code",
   "execution_count": null,
   "metadata": {
    "collapsed": true
   },
   "outputs": [],
   "source": [
    "dfservices = pd.read_csv(os.path.join(DATA_DIR,services_file), sep='|', header=None, encoding='utf-8',dtype={1: str})\n",
    "dfservices.columns = ['id_station','code_postal','type_station','latitude','longitude','services']"
   ]
  },
  {
   "cell_type": "code",
   "execution_count": null,
   "metadata": {
    "collapsed": true
   },
   "outputs": [],
   "source": [
    "dfservices.head()"
   ]
  },
  {
   "cell_type": "code",
   "execution_count": null,
   "metadata": {
    "collapsed": true
   },
   "outputs": [],
   "source": [
    " #sauver nos donnes dans DATA_DIR\n",
    "    #pickle format efficace\n",
    "dfall.to_pickle(os.path.join(DATA_DIR, PRICE_FILE))\n",
    "dfstations.to_pickle(os.path.join(DATA_DIR, STATION_FILE))\n",
    "dfservices.to_pickle(os.path.join(DATA_DIR, SERVICE_FILE))"
   ]
  },
  {
   "cell_type": "raw",
   "metadata": {
    "collapsed": true
   },
   "source": [
    "%%time\n",
    "testdf = pd.read_pickle(os.path.join(DATA_DIR, PRICE_FILE))"
   ]
  },
  {
   "cell_type": "code",
   "execution_count": null,
   "metadata": {
    "collapsed": true
   },
   "outputs": [],
   "source": [
    "#créer base de données\n",
    "cnx = sqlite3.connect(GAS_DB)"
   ]
  },
  {
   "cell_type": "code",
   "execution_count": null,
   "metadata": {
    "collapsed": true,
    "scrolled": true
   },
   "outputs": [],
   "source": [
    "dfall.to_sql('prices', cnx, index=False, if exists='replace')"
   ]
  },
  {
   "cell_type": "code",
   "execution_count": null,
   "metadata": {
    "collapsed": true,
    "scrolled": true
   },
   "outputs": [],
   "source": [
    "dfstations.to_sql('stations', cnx, index=False, if exists='replace')\n",
    "dfservices.to_sql('services', cnx, index=False, if exists='replace')"
   ]
  },
  {
   "cell_type": "code",
   "execution_count": null,
   "metadata": {
    "collapsed": true,
    "scrolled": true
   },
   "outputs": [],
   "source": [
    "pd.read_sql_query('select * from prices where code_postal=\"13001\"', cnx)"
   ]
  },
  {
   "cell_type": "code",
   "execution_count": null,
   "metadata": {
    "collapsed": true
   },
   "outputs": [],
   "source": []
  },
  {
   "cell_type": "code",
   "execution_count": null,
   "metadata": {
    "collapsed": true
   },
   "outputs": [],
   "source": []
  }
 ],
 "metadata": {
  "kernelspec": {
   "display_name": "Python 3",
   "language": "python",
   "name": "python3"
  },
  "language_info": {
   "codemirror_mode": {
    "name": "ipython",
    "version": 3
   },
   "file_extension": ".py",
   "mimetype": "text/x-python",
   "name": "python",
   "nbconvert_exporter": "python",
   "pygments_lexer": "ipython3",
   "version": "3.6.1"
  }
 },
 "nbformat": 4,
 "nbformat_minor": 2
}
